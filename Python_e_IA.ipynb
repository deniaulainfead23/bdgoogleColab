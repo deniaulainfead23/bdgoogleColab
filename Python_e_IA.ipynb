{
  "nbformat": 4,
  "nbformat_minor": 0,
  "metadata": {
    "colab": {
      "provenance": [],
      "authorship_tag": "ABX9TyP4f2niKdfHdpUwx09q6ipC",
      "include_colab_link": true
    },
    "kernelspec": {
      "name": "python3",
      "display_name": "Python 3"
    },
    "language_info": {
      "name": "python"
    }
  },
  "cells": [
    {
      "cell_type": "markdown",
      "metadata": {
        "id": "view-in-github",
        "colab_type": "text"
      },
      "source": [
        "<a href=\"https://colab.research.google.com/github/deniaulainfead23/bdgoogleColab/blob/main/Python_e_IA.ipynb\" target=\"_parent\"><img src=\"https://colab.research.google.com/assets/colab-badge.svg\" alt=\"Open In Colab\"/></a>"
      ]
    },
    {
      "cell_type": "code",
      "execution_count": null,
      "metadata": {
        "id": "kpksGabSUiPq"
      },
      "outputs": [],
      "source": [
        "!pip install textblob\n",
        "!pip install -q googletrans==4.0.0-rc1"
      ]
    },
    {
      "cell_type": "code",
      "source": [
        "!pip install deep-translator"
      ],
      "metadata": {
        "id": "hrd18_SnYvoM"
      },
      "execution_count": null,
      "outputs": []
    },
    {
      "cell_type": "code",
      "source": [
        "# Instalar a biblioteca de tradução (só precisa fazer uma vez no Colab)\n",
        "!pip install -q deep-translator\n",
        "\n",
        "# Importar as bibliotecas\n",
        "from deep_translator import GoogleTranslator\n",
        "from textblob import TextBlob\n",
        "\n",
        "# Entrada: frase em português\n",
        "frase_pt = input(\"Digite uma frase em português: \")\n",
        "\n",
        "# Traduzir para inglês\n",
        "frase_en = GoogleTranslator(source='pt', target='en').translate(frase_pt)\n",
        "\n",
        "# Analisar sentimento com TextBlob\n",
        "blob = TextBlob(frase_en)\n",
        "polaridade = blob.sentiment.polarity\n",
        "\n",
        "# Exibir tudo formatado\n",
        "print(\"\\n📝 Frase original (Português):\", frase_pt)\n",
        "print(\"🔁 Tradução automática (Inglês):\", frase_en)\n",
        "print(\"📊 Polaridade detectada:\", polaridade)\n",
        "\n",
        "# Interpretar sentimento\n",
        "if polaridade > 0:\n",
        "    sentimento = \"Sentimento POSITIVO 😊\"\n",
        "elif polaridade < 0:\n",
        "    sentimento = \"Sentimento NEGATIVO 😠\"\n",
        "else:\n",
        "    sentimento = \"Sentimento NEUTRO 😐\"\n",
        "\n",
        "# Resultado final\n",
        "print(\"🧠 Análise final:\", sentimento)"
      ],
      "metadata": {
        "colab": {
          "base_uri": "https://localhost:8080/"
        },
        "id": "NyNBhWB7YyyJ",
        "outputId": "b8ef6b83-fc23-4661-fffa-e4078d700f80"
      },
      "execution_count": 22,
      "outputs": [
        {
          "output_type": "stream",
          "name": "stdout",
          "text": [
            "Digite uma frase em português: Amo estudar\n",
            "\n",
            "📝 Frase original (Português): Amo estudar\n",
            "🔁 Tradução automática (Inglês): I love to study\n",
            "📊 Polaridade detectada: 0.5\n",
            "🧠 Análise final: Sentimento POSITIVO 😊\n"
          ]
        }
      ]
    },
    {
      "cell_type": "code",
      "source": [
        "import nltk\n",
        "nltk.download('punkt')\n",
        "\n",
        "\n"
      ],
      "metadata": {
        "colab": {
          "base_uri": "https://localhost:8080/"
        },
        "id": "6k-YS9z-UtPW",
        "outputId": "316c8279-e5ab-4deb-d576-651d5a1c172e"
      },
      "execution_count": 18,
      "outputs": [
        {
          "output_type": "stream",
          "name": "stderr",
          "text": [
            "[nltk_data] Downloading package punkt to /root/nltk_data...\n",
            "[nltk_data]   Package punkt is already up-to-date!\n"
          ]
        },
        {
          "output_type": "execute_result",
          "data": {
            "text/plain": [
              "True"
            ]
          },
          "metadata": {},
          "execution_count": 18
        }
      ]
    },
    {
      "cell_type": "code",
      "source": [
        "frases = [\n",
        "    \"Eu adoro programar!\",\n",
        "    \"Esse trabalho está difícil.\",\n",
        "    \"Hoje o dia está normal.\",\n",
        "    \"A tecnologia transforma o mundo.\",\n",
        "    \"O trânsito está horrível.\"\n",
        "]\n",
        "\n",
        "for frase in frases:\n",
        "    blob = TextBlob(frase)\n",
        "    polaridade = blob.sentiment.polarity\n",
        "    print(f\"\\nFrase: {frase}\")\n",
        "    if polaridade > 0:\n",
        "        print(\"Sentimento: Positivo 😊\")\n",
        "    elif polaridade < 0:\n",
        "        print(\"Sentimento: Negativo 😠\")\n",
        "    else:\n",
        "        print(\"Sentimento: Neutro 😐\")"
      ],
      "metadata": {
        "colab": {
          "base_uri": "https://localhost:8080/"
        },
        "id": "d-_OWypjVFCU",
        "outputId": "357fda4a-6c45-4bbd-ff58-3834bc390708"
      },
      "execution_count": 8,
      "outputs": [
        {
          "output_type": "stream",
          "name": "stdout",
          "text": [
            "\n",
            "Frase: Eu adoro programar!\n",
            "Sentimento: Neutro 😐\n",
            "\n",
            "Frase: Esse trabalho está difícil.\n",
            "Sentimento: Neutro 😐\n",
            "\n",
            "Frase: Hoje o dia está normal.\n",
            "Sentimento: Positivo 😊\n",
            "\n",
            "Frase: A tecnologia transforma o mundo.\n",
            "Sentimento: Neutro 😐\n",
            "\n",
            "Frase: O trânsito está horrível.\n",
            "Sentimento: Neutro 😐\n"
          ]
        }
      ]
    },
    {
      "cell_type": "code",
      "source": [
        "from textblob import TextBlob\n",
        "\n",
        "# Palavras com polaridade personalizada\n",
        "polaridade_customizada = {\n",
        "    \"adoro\": 0.8,\n",
        "    \"horrível\": -0.9,\n",
        "    \"excelente\": 1.0,\n",
        "    \"péssimo\": -1.0,\n",
        "    \"amooooo\": 10.0,\n",
        "    \"amo\": 1.0,\n",
        "    \"gosto\": 0.7,\n",
        "    \"ridículo\":  -1.0\n",
        "\n",
        "}\n",
        "\n",
        "def analisar_sentimento(frase):\n",
        "    blob = TextBlob(frase)\n",
        "    polaridade = blob.sentiment.polarity\n",
        "\n",
        "    for palavra in frase.lower().split():\n",
        "        if palavra in polaridade_customizada:\n",
        "            polaridade += polaridade_customizada[palavra]\n",
        "\n",
        "    return polaridade\n",
        "\n",
        "# Teste\n",
        "frase = \"Eu acho ridículo programar e o trânsito está horrível.\"\n",
        "polaridade_total = analisar_sentimento(frase)\n",
        "\n",
        "print(f\"Polaridade final: {polaridade_total}\")\n",
        "if polaridade_total > 0:\n",
        "    print(\"Sentimento Positivo 😊\")\n",
        "elif polaridade_total < 0:\n",
        "    print(\"Sentimento Negativo 😠\")\n",
        "else:\n",
        "    print(\"Sentimento Neutro 😐\")"
      ],
      "metadata": {
        "colab": {
          "base_uri": "https://localhost:8080/"
        },
        "id": "khTr3ysgVi0e",
        "outputId": "1f247250-a36e-47ac-e805-a3626ae8eabd"
      },
      "execution_count": 11,
      "outputs": [
        {
          "output_type": "stream",
          "name": "stdout",
          "text": [
            "Polaridade final: -1.0\n",
            "Sentimento Negativo 😠\n"
          ]
        }
      ]
    },
    {
      "cell_type": "code",
      "source": [],
      "metadata": {
        "id": "0w3wxLN3Vj7n"
      },
      "execution_count": null,
      "outputs": []
    }
  ]
}