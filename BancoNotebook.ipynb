{
  "nbformat": 4,
  "nbformat_minor": 0,
  "metadata": {
    "colab": {
      "provenance": [],
      "authorship_tag": "ABX9TyO1nie/jhGneetFMMNzT6k3",
      "include_colab_link": true
    },
    "kernelspec": {
      "name": "python3",
      "display_name": "Python 3"
    },
    "language_info": {
      "name": "python"
    }
  },
  "cells": [
    {
      "cell_type": "markdown",
      "metadata": {
        "id": "view-in-github",
        "colab_type": "text"
      },
      "source": [
        "<a href=\"https://colab.research.google.com/github/deniaulainfead23/bdgoogleColab/blob/main/BancoNotebook.ipynb\" target=\"_parent\"><img src=\"https://colab.research.google.com/assets/colab-badge.svg\" alt=\"Open In Colab\"/></a>"
      ]
    },
    {
      "cell_type": "code",
      "execution_count": 1,
      "metadata": {
        "id": "HWZjqWirN2LU"
      },
      "outputs": [],
      "source": [
        "import sqlite3"
      ]
    },
    {
      "cell_type": "code",
      "source": [
        "conn = sqlite3.connect(':memory:')\n",
        "cursor = conn.cursor()"
      ],
      "metadata": {
        "id": "qzjIIx3CPiTC"
      },
      "execution_count": 2,
      "outputs": []
    },
    {
      "cell_type": "code",
      "source": [
        "cursor.execute('''\n",
        "    CREATE TABLE IF NOT EXISTS pessoas (\n",
        "        id INTEGER PRIMARY KEY AUTOINCREMENT,\n",
        "        nome TEXT NOT NULL,\n",
        "        idade INTEGER\n",
        "    );\n",
        " ''');\n"
      ],
      "metadata": {
        "id": "E5KQ1rTiPmIy"
      },
      "execution_count": 5,
      "outputs": []
    },
    {
      "cell_type": "code",
      "source": [
        "\n",
        "# Criação da tabela 'produtos'\n",
        "cursor.execute('''\n",
        "    CREATE TABLE IF NOT EXISTS produtos (\n",
        "        id INTEGER PRIMARY KEY AUTOINCREMENT,\n",
        "        descricao TEXT NOT NULL,\n",
        "        quantidade INTEGER,\n",
        "        precocompra REAL\n",
        "    );\n",
        " ''');\n",
        "\n"
      ],
      "metadata": {
        "id": "A3Rfk-l9QVsS"
      },
      "execution_count": 6,
      "outputs": []
    },
    {
      "cell_type": "code",
      "source": [
        "cursor.execute('''\n",
        " CREATE TABLE IF NOT EXISTS vendas (\n",
        "        idvenda INTEGER PRIMARY KEY AUTOINCREMENT,\n",
        "        idPessoa INTEGER NOT NULL,\n",
        "        idProduto INTEGER NOT NULL,\n",
        "        quantidade INTEGER,\n",
        "        precovenda REAL,\n",
        "        FOREIGN KEY (idPessoa) REFERENCES pessoas(id),\n",
        "        FOREIGN KEY (idProduto) REFERENCES produtos(id)\n",
        "    );\n",
        "     ''');"
      ],
      "metadata": {
        "id": "q52jXCNoQa_i"
      },
      "execution_count": 8,
      "outputs": []
    },
    {
      "cell_type": "code",
      "source": [
        "cursor.execute('''\n",
        "    INSERT INTO pessoas (nome, idade)\n",
        "    VALUES\n",
        "    ('Maria', 30),\n",
        "    ('João', 25),\n",
        "    ('Ana', 40);\n",
        "''')\n",
        "conn.commit()"
      ],
      "metadata": {
        "id": "WcYxKT1FQwMW"
      },
      "execution_count": 9,
      "outputs": []
    },
    {
      "cell_type": "code",
      "source": [
        "cursor.execute('''\n",
        "    select * from pessoas;\n",
        "''')\n",
        "conn.commit()\n",
        "cursor.execute(\"SELECT * FROM pessoas;\")\n",
        "results = cursor.fetchall()\n",
        "\n",
        "for row in results:\n",
        "    print(row)"
      ],
      "metadata": {
        "colab": {
          "base_uri": "https://localhost:8080/",
          "height": 0
        },
        "id": "_gyAUxd_QyG3",
        "outputId": "30503949-f479-43b1-894c-9e2b9b9cbc73"
      },
      "execution_count": 11,
      "outputs": [
        {
          "output_type": "stream",
          "name": "stdout",
          "text": [
            "(1, 'Maria', 30)\n",
            "(2, 'João', 25)\n",
            "(3, 'Ana', 40)\n"
          ]
        }
      ]
    },
    {
      "cell_type": "code",
      "source": [
        "cursor.execute('''\n",
        "    INSERT INTO produtos (descricao, quantidade, precocompra)\n",
        "    VALUES\n",
        "    ('Camiseta', 100, 25.00),\n",
        "    ('Calça', 50, 80.00),\n",
        "    ('Sapato', 30, 120.00);\n",
        "''')"
      ],
      "metadata": {
        "colab": {
          "base_uri": "https://localhost:8080/",
          "height": 0
        },
        "id": "oQ9B-uwYRcWG",
        "outputId": "6dd9fe95-8b13-4666-96da-889cc47651a2"
      },
      "execution_count": 12,
      "outputs": [
        {
          "output_type": "execute_result",
          "data": {
            "text/plain": [
              "<sqlite3.Cursor at 0x78aa62a36bc0>"
            ]
          },
          "metadata": {},
          "execution_count": 12
        }
      ]
    },
    {
      "cell_type": "code",
      "source": [
        "# --- Insert data into 'vendas' table ---\n",
        "cursor.execute('''\n",
        "    INSERT INTO vendas (idPessoa, idProduto, quantidade, precovenda)\n",
        "    VALUES\n",
        "    (1, 1, 2, 60.00),  -- Maria bought 2 Camiseta\n",
        "    (2, 3, 1, 150.00), -- João bought 1 Sapato\n",
        "    (3, 2, 3, 200.00); -- Ana bought 3 Calça\n",
        "''')\n",
        "conn.commit()"
      ],
      "metadata": {
        "id": "Txj6XVexRht8"
      },
      "execution_count": 13,
      "outputs": []
    },
    {
      "cell_type": "code",
      "source": [
        "# --- Retrieve data using a JOIN ---\n",
        "cursor.execute('''\n",
        "    SELECT\n",
        "        p.nome,\n",
        "        pr.descricao,\n",
        "        v.quantidade,\n",
        "        v.precovenda\n",
        "    FROM\n",
        "        vendas v\n",
        "    JOIN\n",
        "        pessoas p ON v.idPessoa = p.id\n",
        "    JOIN\n",
        "        produtos pr ON v.idProduto = pr.id;\n",
        "''')\n",
        "\n",
        "results = cursor.fetchall()\n",
        "\n",
        "for row in results:\n",
        "    print(row)\n",
        "\n",
        "# ... (rest of the code) ..."
      ],
      "metadata": {
        "colab": {
          "base_uri": "https://localhost:8080/",
          "height": 0
        },
        "id": "E13WNyamRw8i",
        "outputId": "6207e6a7-8cef-4ce1-fafe-7d0a973a1464"
      },
      "execution_count": 14,
      "outputs": [
        {
          "output_type": "stream",
          "name": "stdout",
          "text": [
            "('Maria', 'Camiseta', 2, 60.0)\n",
            "('João', 'Sapato', 1, 150.0)\n",
            "('Ana', 'Calça', 3, 200.0)\n"
          ]
        }
      ]
    },
    {
      "cell_type": "code",
      "source": [],
      "metadata": {
        "id": "uVEJMtnGSO9m"
      },
      "execution_count": null,
      "outputs": []
    },
    {
      "cell_type": "code",
      "execution_count": null,
      "metadata": {
        "id": "-sw0fziNSPTu"
      },
      "outputs": [],
      "source": [
        "import sqlite3"
      ]
    },
    {
      "cell_type": "code",
      "source": [
        "conn = sqlite3.connect(':memory:')\n",
        "cursor = conn.cursor()"
      ],
      "metadata": {
        "id": "3kM_VRTkSPTv"
      },
      "execution_count": null,
      "outputs": []
    },
    {
      "cell_type": "code",
      "source": [
        "cursor.execute('''\n",
        "    CREATE TABLE IF NOT EXISTS pessoas (\n",
        "        id INTEGER PRIMARY KEY AUTOINCREMENT,\n",
        "        nome TEXT NOT NULL,\n",
        "        idade INTEGER\n",
        "    );\n",
        " ''');\n"
      ],
      "metadata": {
        "id": "3NizALImSPTv"
      },
      "execution_count": null,
      "outputs": []
    },
    {
      "cell_type": "code",
      "source": [
        "\n",
        "# Criação da tabela 'produtos'\n",
        "cursor.execute('''\n",
        "    CREATE TABLE IF NOT EXISTS produtos (\n",
        "        id INTEGER PRIMARY KEY AUTOINCREMENT,\n",
        "        descricao TEXT NOT NULL,\n",
        "        quantidade INTEGER,\n",
        "        precocompra REAL\n",
        "    );\n",
        " ''');\n",
        "\n"
      ],
      "metadata": {
        "id": "BMQyrhqeSPTv"
      },
      "execution_count": null,
      "outputs": []
    },
    {
      "cell_type": "code",
      "source": [
        "cursor.execute('''\n",
        " CREATE TABLE IF NOT EXISTS vendas (\n",
        "        idvenda INTEGER PRIMARY KEY AUTOINCREMENT,\n",
        "        idPessoa INTEGER NOT NULL,\n",
        "        idProduto INTEGER NOT NULL,\n",
        "        quantidade INTEGER,\n",
        "        precovenda REAL,\n",
        "        FOREIGN KEY (idPessoa) REFERENCES pessoas(id),\n",
        "        FOREIGN KEY (idProduto) REFERENCES produtos(id)\n",
        "    );\n",
        "     ''');"
      ],
      "metadata": {
        "id": "PXKCzJnaSPTw"
      },
      "execution_count": null,
      "outputs": []
    },
    {
      "cell_type": "code",
      "source": [
        "cursor.execute('''\n",
        "    INSERT INTO pessoas (nome, idade)\n",
        "    VALUES\n",
        "    ('Maria', 30),\n",
        "    ('João', 25),\n",
        "    ('Ana', 40);\n",
        "''')\n",
        "conn.commit()"
      ],
      "metadata": {
        "id": "r_CNmFgySPTw"
      },
      "execution_count": null,
      "outputs": []
    },
    {
      "cell_type": "code",
      "source": [
        "cursor.execute('''\n",
        "    select * from pessoas;\n",
        "''')\n",
        "conn.commit()\n",
        "cursor.execute(\"SELECT * FROM pessoas;\")\n",
        "results = cursor.fetchall()\n",
        "\n",
        "for row in results:\n",
        "    print(row)"
      ],
      "metadata": {
        "colab": {
          "base_uri": "https://localhost:8080/"
        },
        "outputId": "30503949-f479-43b1-894c-9e2b9b9cbc73",
        "id": "bF9qBl3RSPTw"
      },
      "execution_count": null,
      "outputs": [
        {
          "output_type": "stream",
          "name": "stdout",
          "text": [
            "(1, 'Maria', 30)\n",
            "(2, 'João', 25)\n",
            "(3, 'Ana', 40)\n"
          ]
        }
      ]
    },
    {
      "cell_type": "code",
      "source": [
        "cursor.execute('''\n",
        "    INSERT INTO produtos (descricao, quantidade, precocompra)\n",
        "    VALUES\n",
        "    ('Camiseta', 100, 25.00),\n",
        "    ('Calça', 50, 80.00),\n",
        "    ('Sapato', 30, 120.00);\n",
        "''')"
      ],
      "metadata": {
        "colab": {
          "base_uri": "https://localhost:8080/"
        },
        "outputId": "6dd9fe95-8b13-4666-96da-889cc47651a2",
        "id": "NG7D0LFFSPTx"
      },
      "execution_count": null,
      "outputs": [
        {
          "output_type": "execute_result",
          "data": {
            "text/plain": [
              "<sqlite3.Cursor at 0x78aa62a36bc0>"
            ]
          },
          "metadata": {},
          "execution_count": 12
        }
      ]
    },
    {
      "cell_type": "code",
      "source": [
        "# --- Insert data into 'vendas' table ---\n",
        "cursor.execute('''\n",
        "    INSERT INTO vendas (idPessoa, idProduto, quantidade, precovenda)\n",
        "    VALUES\n",
        "    (1, 1, 2, 60.00),  -- Maria bought 2 Camiseta\n",
        "    (2, 3, 1, 150.00), -- João bought 1 Sapato\n",
        "    (3, 2, 3, 200.00); -- Ana bought 3 Calça\n",
        "''')\n",
        "conn.commit()"
      ],
      "metadata": {
        "id": "l2BZ_tGCSPTx"
      },
      "execution_count": null,
      "outputs": []
    },
    {
      "cell_type": "code",
      "source": [
        "!git clone https://github.com/deniaulainfead23/bancodedados.git"
      ],
      "metadata": {
        "colab": {
          "base_uri": "https://localhost:8080/"
        },
        "id": "U5Bviph8S_fU",
        "outputId": "c581ae75-8517-48e9-fe58-bbdaca6ef1e6"
      },
      "execution_count": 22,
      "outputs": [
        {
          "output_type": "stream",
          "name": "stdout",
          "text": [
            "fatal: destination path 'bancodedados' already exists and is not an empty directory.\n"
          ]
        }
      ]
    },
    {
      "cell_type": "code",
      "source": [
        "%cd https://github.com/deniaulainfead23/bancodedados.git"
      ],
      "metadata": {
        "colab": {
          "base_uri": "https://localhost:8080/"
        },
        "id": "C7c0yzL2TmKU",
        "outputId": "05f28766-888e-4adb-a4a0-16f5362cb15d"
      },
      "execution_count": 21,
      "outputs": [
        {
          "output_type": "stream",
          "name": "stdout",
          "text": [
            "[Errno 2] No such file or directory: 'https://github.com/deniaulainfead23/bancodedados.git'\n",
            "/content\n"
          ]
        }
      ]
    }
  ]
}